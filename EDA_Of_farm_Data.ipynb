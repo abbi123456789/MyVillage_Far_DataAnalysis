{
 "cells": [
  {
   "cell_type": "code",
   "execution_count": 1,
   "metadata": {
    "executionInfo": {
     "elapsed": 1477,
     "status": "ok",
     "timestamp": 1749899591127,
     "user": {
      "displayName": "abhi ram lingareddy",
      "userId": "15185931075273431586"
     },
     "user_tz": -330
    },
    "id": "N_1mmyzOIfBs"
   },
   "outputs": [],
   "source": [
    "import pandas as pd\n",
    "import matplotlib.pyplot as plt\n",
    "\n"
   ]
  },
  {
   "cell_type": "code",
   "execution_count": 2,
   "metadata": {
    "executionInfo": {
     "elapsed": 807,
     "status": "ok",
     "timestamp": 1749899619185,
     "user": {
      "displayName": "abhi ram lingareddy",
      "userId": "15185931075273431586"
     },
     "user_tz": -330
    },
    "id": "AFolVwYcJMtd"
   },
   "outputs": [],
   "source": [
    "df= pd.read_excel(r\"C:\\Users\\abhir\\OneDrive\\Desktop\\Rajupalem\\Rajupalem Land Records.xlsx\")"
   ]
  },
  {
   "cell_type": "markdown",
   "metadata": {},
   "source": [
    "# Initial inspection"
   ]
  },
  {
   "cell_type": "code",
   "execution_count": 3,
   "metadata": {},
   "outputs": [
    {
     "name": "stdout",
     "output_type": "stream",
     "text": [
      "Data ahape: (1620, 10)\n",
      "\n",
      "First 5 rows:\n"
     ]
    },
    {
     "data": {
      "text/html": [
       "<div>\n",
       "<style scoped>\n",
       "    .dataframe tbody tr th:only-of-type {\n",
       "        vertical-align: middle;\n",
       "    }\n",
       "\n",
       "    .dataframe tbody tr th {\n",
       "        vertical-align: top;\n",
       "    }\n",
       "\n",
       "    .dataframe thead th {\n",
       "        text-align: right;\n",
       "    }\n",
       "</style>\n",
       "<table border=\"1\" class=\"dataframe\">\n",
       "  <thead>\n",
       "    <tr style=\"text-align: right;\">\n",
       "      <th></th>\n",
       "      <th>Sl. No.</th>\n",
       "      <th>Account No.</th>\n",
       "      <th>Land owner name</th>\n",
       "      <th>Land Parcel Number</th>\n",
       "      <th>Land nature</th>\n",
       "      <th>Land classification</th>\n",
       "      <th>Land sub-classification</th>\n",
       "      <th>Land Extent (in acres)</th>\n",
       "      <th>Aadhar last four digits</th>\n",
       "      <th>Remarks</th>\n",
       "    </tr>\n",
       "  </thead>\n",
       "  <tbody>\n",
       "    <tr>\n",
       "      <th>0</th>\n",
       "      <td>1</td>\n",
       "      <td>1.0</td>\n",
       "      <td>Abbayi Reddy Kunkala</td>\n",
       "      <td>269.0</td>\n",
       "      <td>Patta Jirayathi Bhoomi</td>\n",
       "      <td>Maagani</td>\n",
       "      <td>LLA</td>\n",
       "      <td>3.91</td>\n",
       "      <td>NaN</td>\n",
       "      <td>NaN</td>\n",
       "    </tr>\n",
       "    <tr>\n",
       "      <th>1</th>\n",
       "      <td>2</td>\n",
       "      <td>1.0</td>\n",
       "      <td>Abbayi Reddy Kunkala</td>\n",
       "      <td>298.0</td>\n",
       "      <td>Patta Jirayathi Bhoomi</td>\n",
       "      <td>Metta</td>\n",
       "      <td>Pattadaar</td>\n",
       "      <td>1.00</td>\n",
       "      <td>NaN</td>\n",
       "      <td>NaN</td>\n",
       "    </tr>\n",
       "    <tr>\n",
       "      <th>2</th>\n",
       "      <td>3</td>\n",
       "      <td>1.0</td>\n",
       "      <td>Abbayi Reddy Kunkala</td>\n",
       "      <td>303.0</td>\n",
       "      <td>Patta Jirayathi Bhoomi</td>\n",
       "      <td>Metta</td>\n",
       "      <td>Pattadaar</td>\n",
       "      <td>0.16</td>\n",
       "      <td>NaN</td>\n",
       "      <td>NaN</td>\n",
       "    </tr>\n",
       "    <tr>\n",
       "      <th>3</th>\n",
       "      <td>4</td>\n",
       "      <td>1.0</td>\n",
       "      <td>Abbayi Reddy Kunkala</td>\n",
       "      <td>377.0</td>\n",
       "      <td>Patta Jirayathi Bhoomi</td>\n",
       "      <td>Metta</td>\n",
       "      <td>Pattadaar</td>\n",
       "      <td>2.43</td>\n",
       "      <td>NaN</td>\n",
       "      <td>NaN</td>\n",
       "    </tr>\n",
       "    <tr>\n",
       "      <th>4</th>\n",
       "      <td>5</td>\n",
       "      <td>1.0</td>\n",
       "      <td>Abbayi Reddy Kunkala</td>\n",
       "      <td>383.0</td>\n",
       "      <td>Patta Jirayathi Bhoomi</td>\n",
       "      <td>Metta</td>\n",
       "      <td>Pattadaar</td>\n",
       "      <td>0.10</td>\n",
       "      <td>NaN</td>\n",
       "      <td>NaN</td>\n",
       "    </tr>\n",
       "  </tbody>\n",
       "</table>\n",
       "</div>"
      ],
      "text/plain": [
       "   Sl. No.  Account No.       Land owner name  Land Parcel Number   \n",
       "0        1          1.0  Abbayi Reddy Kunkala               269.0  \\\n",
       "1        2          1.0  Abbayi Reddy Kunkala               298.0   \n",
       "2        3          1.0  Abbayi Reddy Kunkala               303.0   \n",
       "3        4          1.0  Abbayi Reddy Kunkala               377.0   \n",
       "4        5          1.0  Abbayi Reddy Kunkala               383.0   \n",
       "\n",
       "              Land nature Land classification Land sub-classification   \n",
       "0  Patta Jirayathi Bhoomi             Maagani                     LLA  \\\n",
       "1  Patta Jirayathi Bhoomi               Metta               Pattadaar   \n",
       "2  Patta Jirayathi Bhoomi               Metta               Pattadaar   \n",
       "3  Patta Jirayathi Bhoomi               Metta               Pattadaar   \n",
       "4  Patta Jirayathi Bhoomi               Metta               Pattadaar   \n",
       "\n",
       "   Land Extent (in acres)  Aadhar last four digits  Remarks  \n",
       "0                    3.91                      NaN      NaN  \n",
       "1                    1.00                      NaN      NaN  \n",
       "2                    0.16                      NaN      NaN  \n",
       "3                    2.43                      NaN      NaN  \n",
       "4                    0.10                      NaN      NaN  "
      ]
     },
     "metadata": {},
     "output_type": "display_data"
    },
    {
     "name": "stdout",
     "output_type": "stream",
     "text": [
      "\n",
      "Data types:\n",
      "Sl. No.                      int64\n",
      "Account No.                float64\n",
      "Land owner name             object\n",
      "Land Parcel Number         float64\n",
      "Land nature                 object\n",
      "Land classification         object\n",
      "Land sub-classification     object\n",
      "Land Extent (in acres)     float64\n",
      "Aadhar last four digits    float64\n",
      "Remarks                    float64\n",
      "dtype: object\n",
      "\n",
      "Missing values:\n",
      "Sl. No.                       0\n",
      "Account No.                 795\n",
      "Land owner name             795\n",
      "Land Parcel Number          795\n",
      "Land nature                 795\n",
      "Land classification         795\n",
      "Land sub-classification     795\n",
      "Land Extent (in acres)      795\n",
      "Aadhar last four digits    1620\n",
      "Remarks                    1620\n",
      "dtype: int64\n"
     ]
    }
   ],
   "source": [
    "print(\"Data ahape:\", df.shape)\n",
    "print(\"\\nFirst 5 rows:\")\n",
    "display(df.head())\n",
    "print(\"\\nData types:\")\n",
    "print(df.dtypes)\n",
    "print(\"\\nMissing values:\")\n",
    "print(df.isnull().sum())"
   ]
  },
  {
   "cell_type": "markdown",
   "metadata": {},
   "source": [
    "# Data Cleaning"
   ]
  },
  {
   "cell_type": "code",
   "execution_count": 4,
   "metadata": {
    "executionInfo": {
     "elapsed": 7,
     "status": "ok",
     "timestamp": 1749899871918,
     "user": {
      "displayName": "abhi ram lingareddy",
      "userId": "15185931075273431586"
     },
     "user_tz": -330
    },
    "id": "QC-9UhwEJclW"
   },
   "outputs": [],
   "source": [
    "df.drop(['Aadhar last four digits', 'Remarks'], axis=1, inplace=True)"
   ]
  },
  {
   "cell_type": "code",
   "execution_count": 5,
   "metadata": {},
   "outputs": [],
   "source": [
    "df=df.dropna()"
   ]
  },
  {
   "cell_type": "code",
   "execution_count": 6,
   "metadata": {},
   "outputs": [
    {
     "data": {
      "text/plain": [
       "Sl. No.                    0\n",
       "Account No.                0\n",
       "Land owner name            0\n",
       "Land Parcel Number         0\n",
       "Land nature                0\n",
       "Land classification        0\n",
       "Land sub-classification    0\n",
       "Land Extent (in acres)     0\n",
       "dtype: int64"
      ]
     },
     "execution_count": 6,
     "metadata": {},
     "output_type": "execute_result"
    }
   ],
   "source": [
    "df.isnull().sum()"
   ]
  },
  {
   "cell_type": "code",
   "execution_count": 14,
   "metadata": {},
   "outputs": [
    {
     "name": "stdout",
     "output_type": "stream",
     "text": [
      "Data Shape: (825, 8)\n"
     ]
    }
   ],
   "source": [
    "# Data shape after data cleaning\n",
    "print(\"Data Shape:\", df.shape)"
   ]
  },
  {
   "cell_type": "code",
   "execution_count": 7,
   "metadata": {},
   "outputs": [
    {
     "name": "stdout",
     "output_type": "stream",
     "text": [
      "Actual Total land: 779.7743\n"
     ]
    }
   ],
   "source": [
    "# same land is shared bewteen few people. so I am tacking max land bwteeen them\n",
    "\n",
    "total_land = df.groupby('Land Parcel Number')['Land Extent (in acres)'].max().sum(skipna=True)\n",
    "print(\"Actual Total land:\",total_land)"
   ]
  },
  {
   "cell_type": "markdown",
   "metadata": {},
   "source": [
    "# Visualization"
   ]
  },
  {
   "cell_type": "code",
   "execution_count": 16,
   "metadata": {
    "id": "uV_fM8dTKwMd"
   },
   "outputs": [
    {
     "data": {
      "image/png": "[encoded data removed]",
      "text/plain": [
       "<Figure size 640x480 with 1 Axes>"
      ]
     },
     "metadata": {},
     "output_type": "display_data"
    }
   ],
   "source": [
    "plt.bar(df['Land classification'], df['Land Extent (in acres)'])\n",
    "plt.xlabel(\"Land Classification\")\n",
    "plt.ylabel(\"Land Extent (in acres)\")\n",
    "plt.show()"
   ]
  },
  {
   "cell_type": "code",
   "execution_count": 29,
   "metadata": {},
   "outputs": [
    {
     "name": "stdout",
     "output_type": "stream",
     "text": [
      "              Land nature  Land Extent (in acres)\n",
      "0              Govt. Land                366.9100\n",
      "1  Patta Jirayathi Bhoomi                695.4037\n"
     ]
    }
   ],
   "source": [
    "Grouped_data= df.groupby(['Land nature']).agg({'Land Extent (in acres)': 'sum'}).reset_index()\n",
    "print(Grouped_data)"
   ]
  },
  {
   "cell_type": "code",
   "execution_count": 13,
   "metadata": {},
   "outputs": [
    {
     "data": {
      "image/png": "[encoded data removed]",
      "text/plain": [
       "<Figure size 640x480 with 1 Axes>"
      ]
     },
     "metadata": {},
     "output_type": "display_data"
    }
   ],
   "source": [
    "plt.hist(df['Land Extent (in acres)'])\n",
    "plt.xlabel(\"Land Extent (in acres)\")\n",
    "plt.show()"
   ]
  },
  {
   "cell_type": "code",
   "execution_count": 27,
   "metadata": {},
   "outputs": [
    {
     "name": "stdout",
     "output_type": "stream",
     "text": [
      "['Land classification', 'Land nature', 'Land Extent (in acres)']\n"
     ]
    }
   ],
   "source": [
    "print(Grouped_data.columns.tolist())"
   ]
  },
  {
   "cell_type": "code",
   "execution_count": 31,
   "metadata": {},
   "outputs": [
    {
     "data": {
      "image/png": "[encoded data removed]",
      "text/plain": [
       "<Figure size 640x480 with 1 Axes>"
      ]
     },
     "metadata": {},
     "output_type": "display_data"
    }
   ],
   "source": [
    "plt.pie(Grouped_data['Land Extent (in acres)'], labels= Grouped_data['Land nature'], \n",
    "        autopct=\"%.2f%%\")\n",
    "plt.show()"
   ]
  }
 ],
 "metadata": {
  "colab": {
   "authorship_tag": "ABX9TyNEF3t5cyMNUMCG3w1VcUsM",
   "provenance": []
  },
  "kernelspec": {
   "display_name": "Python 3",
   "name": "python3"
  },
  "language_info": {
   "codemirror_mode": {
    "name": "ipython",
    "version": 3
   },
   "file_extension": ".py",
   "mimetype": "text/x-python",
   "name": "python",
   "nbconvert_exporter": "python",
   "pygments_lexer": "ipython3",
   "version": "3.9.6"
  }
 },
 "nbformat": 4,
 "nbformat_minor": 0
}
