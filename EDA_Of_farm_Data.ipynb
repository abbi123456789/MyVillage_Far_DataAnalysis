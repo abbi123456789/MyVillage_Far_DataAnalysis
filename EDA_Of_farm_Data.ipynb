{
 "cells": [
  {
   "cell_type": "code",
   "execution_count": 11,
   "metadata": {
    "executionInfo": {
     "elapsed": 1477,
     "status": "ok",
     "timestamp": 1749899591127,
     "user": {
      "displayName": "abhi ram lingareddy",
      "userId": "15185931075273431586"
     },
     "user_tz": -330
    },
    "id": "N_1mmyzOIfBs"
   },
   "outputs": [],
   "source": [
    "import pandas as pd\n",
    "import matplotlib.pyplot as plt\n",
    "\n"
   ]
  },
  {
   "cell_type": "code",
   "execution_count": 5,
   "metadata": {
    "executionInfo": {
     "elapsed": 807,
     "status": "ok",
     "timestamp": 1749899619185,
     "user": {
      "displayName": "abhi ram lingareddy",
      "userId": "15185931075273431586"
     },
     "user_tz": -330
    },
    "id": "AFolVwYcJMtd"
   },
   "outputs": [],
   "source": [
    "df= pd.read_excel(r\"C:\\Users\\abhir\\OneDrive\\Desktop\\Rajupalem\\Rajupalem Land Records.xlsx\")"
   ]
  },
  {
   "cell_type": "code",
   "execution_count": 6,
   "metadata": {
    "colab": {
     "base_uri": "https://localhost:8080/",
     "height": 669
    },
    "executionInfo": {
     "elapsed": 153,
     "status": "ok",
     "timestamp": 1749899623876,
     "user": {
      "displayName": "abhi ram lingareddy",
      "userId": "15185931075273431586"
     },
     "user_tz": -330
    },
    "id": "v2jmJmPzJTIh",
    "outputId": "2efa2aeb-1485-49b8-e654-39a3ff6cde0b"
   },
   "outputs": [
    {
     "data": {
      "text/html": [
       "<div>\n",
       "<style scoped>\n",
       "    .dataframe tbody tr th:only-of-type {\n",
       "        vertical-align: middle;\n",
       "    }\n",
       "\n",
       "    .dataframe tbody tr th {\n",
       "        vertical-align: top;\n",
       "    }\n",
       "\n",
       "    .dataframe thead th {\n",
       "        text-align: right;\n",
       "    }\n",
       "</style>\n",
       "<table border=\"1\" class=\"dataframe\">\n",
       "  <thead>\n",
       "    <tr style=\"text-align: right;\">\n",
       "      <th></th>\n",
       "      <th>Sl. No.</th>\n",
       "      <th>Account No.</th>\n",
       "      <th>Land owner name</th>\n",
       "      <th>Land Parcel Number</th>\n",
       "      <th>Land nature</th>\n",
       "      <th>Land classification</th>\n",
       "      <th>Land sub-classification</th>\n",
       "      <th>Land Extent (in acres)</th>\n",
       "      <th>Aadhar last four digits</th>\n",
       "      <th>Remarks</th>\n",
       "    </tr>\n",
       "  </thead>\n",
       "  <tbody>\n",
       "    <tr>\n",
       "      <th>0</th>\n",
       "      <td>1</td>\n",
       "      <td>1.0</td>\n",
       "      <td>Abbayi Reddy Kunkala</td>\n",
       "      <td>269.0</td>\n",
       "      <td>Patta Jirayathi Bhoomi</td>\n",
       "      <td>Maagani</td>\n",
       "      <td>LLA</td>\n",
       "      <td>3.91</td>\n",
       "      <td>NaN</td>\n",
       "      <td>NaN</td>\n",
       "    </tr>\n",
       "    <tr>\n",
       "      <th>1</th>\n",
       "      <td>2</td>\n",
       "      <td>1.0</td>\n",
       "      <td>Abbayi Reddy Kunkala</td>\n",
       "      <td>298.0</td>\n",
       "      <td>Patta Jirayathi Bhoomi</td>\n",
       "      <td>Metta</td>\n",
       "      <td>Pattadaar</td>\n",
       "      <td>1.00</td>\n",
       "      <td>NaN</td>\n",
       "      <td>NaN</td>\n",
       "    </tr>\n",
       "    <tr>\n",
       "      <th>2</th>\n",
       "      <td>3</td>\n",
       "      <td>1.0</td>\n",
       "      <td>Abbayi Reddy Kunkala</td>\n",
       "      <td>303.0</td>\n",
       "      <td>Patta Jirayathi Bhoomi</td>\n",
       "      <td>Metta</td>\n",
       "      <td>Pattadaar</td>\n",
       "      <td>0.16</td>\n",
       "      <td>NaN</td>\n",
       "      <td>NaN</td>\n",
       "    </tr>\n",
       "    <tr>\n",
       "      <th>3</th>\n",
       "      <td>4</td>\n",
       "      <td>1.0</td>\n",
       "      <td>Abbayi Reddy Kunkala</td>\n",
       "      <td>377.0</td>\n",
       "      <td>Patta Jirayathi Bhoomi</td>\n",
       "      <td>Metta</td>\n",
       "      <td>Pattadaar</td>\n",
       "      <td>2.43</td>\n",
       "      <td>NaN</td>\n",
       "      <td>NaN</td>\n",
       "    </tr>\n",
       "    <tr>\n",
       "      <th>4</th>\n",
       "      <td>5</td>\n",
       "      <td>1.0</td>\n",
       "      <td>Abbayi Reddy Kunkala</td>\n",
       "      <td>383.0</td>\n",
       "      <td>Patta Jirayathi Bhoomi</td>\n",
       "      <td>Metta</td>\n",
       "      <td>Pattadaar</td>\n",
       "      <td>0.10</td>\n",
       "      <td>NaN</td>\n",
       "      <td>NaN</td>\n",
       "    </tr>\n",
       "    <tr>\n",
       "      <th>...</th>\n",
       "      <td>...</td>\n",
       "      <td>...</td>\n",
       "      <td>...</td>\n",
       "      <td>...</td>\n",
       "      <td>...</td>\n",
       "      <td>...</td>\n",
       "      <td>...</td>\n",
       "      <td>...</td>\n",
       "      <td>...</td>\n",
       "      <td>...</td>\n",
       "    </tr>\n",
       "    <tr>\n",
       "      <th>1615</th>\n",
       "      <td>1616</td>\n",
       "      <td>NaN</td>\n",
       "      <td>NaN</td>\n",
       "      <td>NaN</td>\n",
       "      <td>NaN</td>\n",
       "      <td>NaN</td>\n",
       "      <td>NaN</td>\n",
       "      <td>NaN</td>\n",
       "      <td>NaN</td>\n",
       "      <td>NaN</td>\n",
       "    </tr>\n",
       "    <tr>\n",
       "      <th>1616</th>\n",
       "      <td>1617</td>\n",
       "      <td>NaN</td>\n",
       "      <td>NaN</td>\n",
       "      <td>NaN</td>\n",
       "      <td>NaN</td>\n",
       "      <td>NaN</td>\n",
       "      <td>NaN</td>\n",
       "      <td>NaN</td>\n",
       "      <td>NaN</td>\n",
       "      <td>NaN</td>\n",
       "    </tr>\n",
       "    <tr>\n",
       "      <th>1617</th>\n",
       "      <td>1618</td>\n",
       "      <td>NaN</td>\n",
       "      <td>NaN</td>\n",
       "      <td>NaN</td>\n",
       "      <td>NaN</td>\n",
       "      <td>NaN</td>\n",
       "      <td>NaN</td>\n",
       "      <td>NaN</td>\n",
       "      <td>NaN</td>\n",
       "      <td>NaN</td>\n",
       "    </tr>\n",
       "    <tr>\n",
       "      <th>1618</th>\n",
       "      <td>1619</td>\n",
       "      <td>NaN</td>\n",
       "      <td>NaN</td>\n",
       "      <td>NaN</td>\n",
       "      <td>NaN</td>\n",
       "      <td>NaN</td>\n",
       "      <td>NaN</td>\n",
       "      <td>NaN</td>\n",
       "      <td>NaN</td>\n",
       "      <td>NaN</td>\n",
       "    </tr>\n",
       "    <tr>\n",
       "      <th>1619</th>\n",
       "      <td>1620</td>\n",
       "      <td>NaN</td>\n",
       "      <td>NaN</td>\n",
       "      <td>NaN</td>\n",
       "      <td>NaN</td>\n",
       "      <td>NaN</td>\n",
       "      <td>NaN</td>\n",
       "      <td>NaN</td>\n",
       "      <td>NaN</td>\n",
       "      <td>NaN</td>\n",
       "    </tr>\n",
       "  </tbody>\n",
       "</table>\n",
       "<p>1620 rows × 10 columns</p>\n",
       "</div>"
      ],
      "text/plain": [
       "      Sl. No.  Account No.       Land owner name  Land Parcel Number   \n",
       "0           1          1.0  Abbayi Reddy Kunkala               269.0  \\\n",
       "1           2          1.0  Abbayi Reddy Kunkala               298.0   \n",
       "2           3          1.0  Abbayi Reddy Kunkala               303.0   \n",
       "3           4          1.0  Abbayi Reddy Kunkala               377.0   \n",
       "4           5          1.0  Abbayi Reddy Kunkala               383.0   \n",
       "...       ...          ...                   ...                 ...   \n",
       "1615     1616          NaN                   NaN                 NaN   \n",
       "1616     1617          NaN                   NaN                 NaN   \n",
       "1617     1618          NaN                   NaN                 NaN   \n",
       "1618     1619          NaN                   NaN                 NaN   \n",
       "1619     1620          NaN                   NaN                 NaN   \n",
       "\n",
       "                 Land nature Land classification Land sub-classification   \n",
       "0     Patta Jirayathi Bhoomi             Maagani                     LLA  \\\n",
       "1     Patta Jirayathi Bhoomi               Metta               Pattadaar   \n",
       "2     Patta Jirayathi Bhoomi               Metta               Pattadaar   \n",
       "3     Patta Jirayathi Bhoomi               Metta               Pattadaar   \n",
       "4     Patta Jirayathi Bhoomi               Metta               Pattadaar   \n",
       "...                      ...                 ...                     ...   \n",
       "1615                     NaN                 NaN                     NaN   \n",
       "1616                     NaN                 NaN                     NaN   \n",
       "1617                     NaN                 NaN                     NaN   \n",
       "1618                     NaN                 NaN                     NaN   \n",
       "1619                     NaN                 NaN                     NaN   \n",
       "\n",
       "      Land Extent (in acres)  Aadhar last four digits  Remarks  \n",
       "0                       3.91                      NaN      NaN  \n",
       "1                       1.00                      NaN      NaN  \n",
       "2                       0.16                      NaN      NaN  \n",
       "3                       2.43                      NaN      NaN  \n",
       "4                       0.10                      NaN      NaN  \n",
       "...                      ...                      ...      ...  \n",
       "1615                     NaN                      NaN      NaN  \n",
       "1616                     NaN                      NaN      NaN  \n",
       "1617                     NaN                      NaN      NaN  \n",
       "1618                     NaN                      NaN      NaN  \n",
       "1619                     NaN                      NaN      NaN  \n",
       "\n",
       "[1620 rows x 10 columns]"
      ]
     },
     "execution_count": 6,
     "metadata": {},
     "output_type": "execute_result"
    }
   ],
   "source": [
    "df"
   ]
  },
  {
   "cell_type": "code",
   "execution_count": 7,
   "metadata": {
    "colab": {
     "base_uri": "https://localhost:8080/"
    },
    "executionInfo": {
     "elapsed": 20,
     "status": "ok",
     "timestamp": 1749899650898,
     "user": {
      "displayName": "abhi ram lingareddy",
      "userId": "15185931075273431586"
     },
     "user_tz": -330
    },
    "id": "j4gwAxSyJYo8",
    "outputId": "7cf4986f-8c61-4dd3-b748-a4895364624f"
   },
   "outputs": [
    {
     "data": {
      "text/plain": [
       "Index(['Sl. No.', 'Account No.', 'Land owner name', 'Land Parcel Number',\n",
       "       'Land nature', 'Land classification', 'Land sub-classification',\n",
       "       'Land Extent (in acres)', 'Aadhar last four digits', 'Remarks'],\n",
       "      dtype='object')"
      ]
     },
     "execution_count": 7,
     "metadata": {},
     "output_type": "execute_result"
    }
   ],
   "source": [
    "df.columns"
   ]
  },
  {
   "cell_type": "code",
   "execution_count": 8,
   "metadata": {
    "executionInfo": {
     "elapsed": 7,
     "status": "ok",
     "timestamp": 1749899871918,
     "user": {
      "displayName": "abhi ram lingareddy",
      "userId": "15185931075273431586"
     },
     "user_tz": -330
    },
    "id": "QC-9UhwEJclW"
   },
   "outputs": [],
   "source": [
    "df.drop(['Aadhar last four digits', 'Remarks'], axis=1, inplace=True)"
   ]
  },
  {
   "cell_type": "code",
   "execution_count": 23,
   "metadata": {
    "colab": {
     "base_uri": "https://localhost:8080/",
     "height": 649
    },
    "executionInfo": {
     "elapsed": 141,
     "status": "ok",
     "timestamp": 1749899878390,
     "user": {
      "displayName": "abhi ram lingareddy",
      "userId": "15185931075273431586"
     },
     "user_tz": -330
    },
    "id": "0Sm_QsAnKRNi",
    "outputId": "9425c887-16ad-4c7b-bac5-f10b757a234c"
   },
   "outputs": [
    {
     "data": {
      "text/html": [
       "<div>\n",
       "<style scoped>\n",
       "    .dataframe tbody tr th:only-of-type {\n",
       "        vertical-align: middle;\n",
       "    }\n",
       "\n",
       "    .dataframe tbody tr th {\n",
       "        vertical-align: top;\n",
       "    }\n",
       "\n",
       "    .dataframe thead th {\n",
       "        text-align: right;\n",
       "    }\n",
       "</style>\n",
       "<table border=\"1\" class=\"dataframe\">\n",
       "  <thead>\n",
       "    <tr style=\"text-align: right;\">\n",
       "      <th></th>\n",
       "      <th>Sl. No.</th>\n",
       "      <th>Account No.</th>\n",
       "      <th>Land owner name</th>\n",
       "      <th>Land Parcel Number</th>\n",
       "      <th>Land nature</th>\n",
       "      <th>Land classification</th>\n",
       "      <th>Land sub-classification</th>\n",
       "      <th>Land Extent (in acres)</th>\n",
       "    </tr>\n",
       "  </thead>\n",
       "  <tbody>\n",
       "    <tr>\n",
       "      <th>0</th>\n",
       "      <td>1</td>\n",
       "      <td>1.0</td>\n",
       "      <td>Abbayi Reddy Kunkala</td>\n",
       "      <td>269.0</td>\n",
       "      <td>Patta Jirayathi Bhoomi</td>\n",
       "      <td>Maagani</td>\n",
       "      <td>LLA</td>\n",
       "      <td>3.91</td>\n",
       "    </tr>\n",
       "    <tr>\n",
       "      <th>1</th>\n",
       "      <td>2</td>\n",
       "      <td>1.0</td>\n",
       "      <td>Abbayi Reddy Kunkala</td>\n",
       "      <td>298.0</td>\n",
       "      <td>Patta Jirayathi Bhoomi</td>\n",
       "      <td>Metta</td>\n",
       "      <td>Pattadaar</td>\n",
       "      <td>1.00</td>\n",
       "    </tr>\n",
       "    <tr>\n",
       "      <th>2</th>\n",
       "      <td>3</td>\n",
       "      <td>1.0</td>\n",
       "      <td>Abbayi Reddy Kunkala</td>\n",
       "      <td>303.0</td>\n",
       "      <td>Patta Jirayathi Bhoomi</td>\n",
       "      <td>Metta</td>\n",
       "      <td>Pattadaar</td>\n",
       "      <td>0.16</td>\n",
       "    </tr>\n",
       "    <tr>\n",
       "      <th>3</th>\n",
       "      <td>4</td>\n",
       "      <td>1.0</td>\n",
       "      <td>Abbayi Reddy Kunkala</td>\n",
       "      <td>377.0</td>\n",
       "      <td>Patta Jirayathi Bhoomi</td>\n",
       "      <td>Metta</td>\n",
       "      <td>Pattadaar</td>\n",
       "      <td>2.43</td>\n",
       "    </tr>\n",
       "    <tr>\n",
       "      <th>4</th>\n",
       "      <td>5</td>\n",
       "      <td>1.0</td>\n",
       "      <td>Abbayi Reddy Kunkala</td>\n",
       "      <td>383.0</td>\n",
       "      <td>Patta Jirayathi Bhoomi</td>\n",
       "      <td>Metta</td>\n",
       "      <td>Pattadaar</td>\n",
       "      <td>0.10</td>\n",
       "    </tr>\n",
       "    <tr>\n",
       "      <th>...</th>\n",
       "      <td>...</td>\n",
       "      <td>...</td>\n",
       "      <td>...</td>\n",
       "      <td>...</td>\n",
       "      <td>...</td>\n",
       "      <td>...</td>\n",
       "      <td>...</td>\n",
       "      <td>...</td>\n",
       "    </tr>\n",
       "    <tr>\n",
       "      <th>820</th>\n",
       "      <td>821</td>\n",
       "      <td>800.0</td>\n",
       "      <td>Avula Subhashini</td>\n",
       "      <td>788.0</td>\n",
       "      <td>Govt. Land</td>\n",
       "      <td>Metta</td>\n",
       "      <td>Pattadaar</td>\n",
       "      <td>0.89</td>\n",
       "    </tr>\n",
       "    <tr>\n",
       "      <th>821</th>\n",
       "      <td>822</td>\n",
       "      <td>801.0</td>\n",
       "      <td>Avula Srinivas Rao/ Lakshmi narayana</td>\n",
       "      <td>707.0</td>\n",
       "      <td>Govt. Land</td>\n",
       "      <td>Metta</td>\n",
       "      <td>Pattadaar</td>\n",
       "      <td>0.58</td>\n",
       "    </tr>\n",
       "    <tr>\n",
       "      <th>822</th>\n",
       "      <td>823</td>\n",
       "      <td>801.0</td>\n",
       "      <td>Avula Srinivas Rao/ Lakshmi narayana</td>\n",
       "      <td>708.0</td>\n",
       "      <td>Govt. Land</td>\n",
       "      <td>Metta</td>\n",
       "      <td>Pattadaar</td>\n",
       "      <td>0.05</td>\n",
       "    </tr>\n",
       "    <tr>\n",
       "      <th>823</th>\n",
       "      <td>824</td>\n",
       "      <td>801.0</td>\n",
       "      <td>Avula Srinivas Rao/ Lakshmi narayana</td>\n",
       "      <td>725.0</td>\n",
       "      <td>Govt. Land</td>\n",
       "      <td>Metta</td>\n",
       "      <td>Pattadaar</td>\n",
       "      <td>0.74</td>\n",
       "    </tr>\n",
       "    <tr>\n",
       "      <th>824</th>\n",
       "      <td>825</td>\n",
       "      <td>801.0</td>\n",
       "      <td>Avula Srinivas Rao/ Lakshmi narayana</td>\n",
       "      <td>725.0</td>\n",
       "      <td>Govt. Land</td>\n",
       "      <td>Metta</td>\n",
       "      <td>Pattadaar</td>\n",
       "      <td>0.74</td>\n",
       "    </tr>\n",
       "  </tbody>\n",
       "</table>\n",
       "<p>825 rows × 8 columns</p>\n",
       "</div>"
      ],
      "text/plain": [
       "     Sl. No.  Account No.                       Land owner name   \n",
       "0          1          1.0                  Abbayi Reddy Kunkala  \\\n",
       "1          2          1.0                  Abbayi Reddy Kunkala   \n",
       "2          3          1.0                  Abbayi Reddy Kunkala   \n",
       "3          4          1.0                  Abbayi Reddy Kunkala   \n",
       "4          5          1.0                  Abbayi Reddy Kunkala   \n",
       "..       ...          ...                                   ...   \n",
       "820      821        800.0                      Avula Subhashini   \n",
       "821      822        801.0  Avula Srinivas Rao/ Lakshmi narayana   \n",
       "822      823        801.0  Avula Srinivas Rao/ Lakshmi narayana   \n",
       "823      824        801.0  Avula Srinivas Rao/ Lakshmi narayana   \n",
       "824      825        801.0  Avula Srinivas Rao/ Lakshmi narayana   \n",
       "\n",
       "     Land Parcel Number             Land nature Land classification   \n",
       "0                 269.0  Patta Jirayathi Bhoomi             Maagani  \\\n",
       "1                 298.0  Patta Jirayathi Bhoomi               Metta   \n",
       "2                 303.0  Patta Jirayathi Bhoomi               Metta   \n",
       "3                 377.0  Patta Jirayathi Bhoomi               Metta   \n",
       "4                 383.0  Patta Jirayathi Bhoomi               Metta   \n",
       "..                  ...                     ...                 ...   \n",
       "820               788.0              Govt. Land               Metta   \n",
       "821               707.0              Govt. Land               Metta   \n",
       "822               708.0              Govt. Land               Metta   \n",
       "823               725.0              Govt. Land               Metta   \n",
       "824               725.0              Govt. Land               Metta   \n",
       "\n",
       "    Land sub-classification  Land Extent (in acres)  \n",
       "0                       LLA                    3.91  \n",
       "1                 Pattadaar                    1.00  \n",
       "2                 Pattadaar                    0.16  \n",
       "3                 Pattadaar                    2.43  \n",
       "4                 Pattadaar                    0.10  \n",
       "..                      ...                     ...  \n",
       "820               Pattadaar                    0.89  \n",
       "821               Pattadaar                    0.58  \n",
       "822               Pattadaar                    0.05  \n",
       "823               Pattadaar                    0.74  \n",
       "824               Pattadaar                    0.74  \n",
       "\n",
       "[825 rows x 8 columns]"
      ]
     },
     "execution_count": 23,
     "metadata": {},
     "output_type": "execute_result"
    }
   ],
   "source": [
    "df"
   ]
  },
  {
   "cell_type": "code",
   "execution_count": 10,
   "metadata": {},
   "outputs": [
    {
     "data": {
      "text/plain": [
       "Index(['Sl. No.', 'Account No.', 'Land owner name', 'Land Parcel Number',\n",
       "       'Land nature', 'Land classification', 'Land sub-classification',\n",
       "       'Land Extent (in acres)'],\n",
       "      dtype='object')"
      ]
     },
     "execution_count": 10,
     "metadata": {},
     "output_type": "execute_result"
    }
   ],
   "source": [
    "df.columns"
   ]
  },
  {
   "cell_type": "code",
   "execution_count": 14,
   "metadata": {},
   "outputs": [
    {
     "name": "stdout",
     "output_type": "stream",
     "text": [
      "<class 'pandas.core.frame.DataFrame'>\n",
      "RangeIndex: 1620 entries, 0 to 1619\n",
      "Data columns (total 8 columns):\n",
      " #   Column                   Non-Null Count  Dtype  \n",
      "---  ------                   --------------  -----  \n",
      " 0   Sl. No.                  1620 non-null   int64  \n",
      " 1   Account No.              825 non-null    float64\n",
      " 2   Land owner name          825 non-null    object \n",
      " 3   Land Parcel Number       825 non-null    float64\n",
      " 4   Land nature              825 non-null    object \n",
      " 5   Land classification      825 non-null    object \n",
      " 6   Land sub-classification  825 non-null    object \n",
      " 7   Land Extent (in acres)   825 non-null    float64\n",
      "dtypes: float64(3), int64(1), object(4)\n",
      "memory usage: 101.4+ KB\n"
     ]
    }
   ],
   "source": [
    "df.info()"
   ]
  },
  {
   "cell_type": "code",
   "execution_count": 17,
   "metadata": {},
   "outputs": [
    {
     "data": {
      "text/plain": [
       "Sl. No.                    0\n",
       "Account No.                0\n",
       "Land owner name            0\n",
       "Land Parcel Number         0\n",
       "Land nature                0\n",
       "Land classification        0\n",
       "Land sub-classification    0\n",
       "Land Extent (in acres)     0\n",
       "dtype: int64"
      ]
     },
     "execution_count": 17,
     "metadata": {},
     "output_type": "execute_result"
    }
   ],
   "source": [
    "df.isnull().sum()"
   ]
  },
  {
   "cell_type": "code",
   "execution_count": 16,
   "metadata": {},
   "outputs": [],
   "source": [
    "df=df.dropna()"
   ]
  },
  {
   "cell_type": "code",
   "execution_count": null,
   "metadata": {
    "id": "uV_fM8dTKwMd"
   },
   "outputs": [
    {
     "data": {
      "image/png": "[encoded data removed]",
      "text/plain": [
       "<Figure size 640x480 with 1 Axes>"
      ]
     },
     "metadata": {},
     "output_type": "display_data"
    }
   ],
   "source": [
    "plt.bar(df['Land classification'], df['Land Extent (in acres)'])\n",
    "plt.xlabel(\"Land Classification\")\n",
    "plt.ylabel(\"Land Extent (in acres)\")\n",
    "plt.show()"
   ]
  },
  {
   "cell_type": "code",
   "execution_count": 24,
   "metadata": {},
   "outputs": [
    {
     "data": {
      "text/plain": [
       "1062.3137000000002"
      ]
     },
     "execution_count": 24,
     "metadata": {},
     "output_type": "execute_result"
    }
   ],
   "source": [
    "df['Land Extent (in acres)'].sum()"
   ]
  },
  {
   "cell_type": "code",
   "execution_count": 29,
   "metadata": {},
   "outputs": [
    {
     "data": {
      "text/html": [
       "<div>\n",
       "<style scoped>\n",
       "    .dataframe tbody tr th:only-of-type {\n",
       "        vertical-align: middle;\n",
       "    }\n",
       "\n",
       "    .dataframe tbody tr th {\n",
       "        vertical-align: top;\n",
       "    }\n",
       "\n",
       "    .dataframe thead th {\n",
       "        text-align: right;\n",
       "    }\n",
       "</style>\n",
       "<table border=\"1\" class=\"dataframe\">\n",
       "  <thead>\n",
       "    <tr style=\"text-align: right;\">\n",
       "      <th></th>\n",
       "      <th>Land Extent (in acres)</th>\n",
       "    </tr>\n",
       "    <tr>\n",
       "      <th>Land classification</th>\n",
       "      <th></th>\n",
       "    </tr>\n",
       "  </thead>\n",
       "  <tbody>\n",
       "    <tr>\n",
       "      <th>Maagani</th>\n",
       "      <td>92.6300</td>\n",
       "    </tr>\n",
       "    <tr>\n",
       "      <th>Metta</th>\n",
       "      <td>969.6837</td>\n",
       "    </tr>\n",
       "  </tbody>\n",
       "</table>\n",
       "</div>"
      ],
      "text/plain": [
       "                     Land Extent (in acres)\n",
       "Land classification                        \n",
       "Maagani                             92.6300\n",
       "Metta                              969.6837"
      ]
     },
     "execution_count": 29,
     "metadata": {},
     "output_type": "execute_result"
    }
   ],
   "source": [
    "df.groupby('Land classification').agg({'Land Extent (in acres)': 'sum'})"
   ]
  }
 ],
 "metadata": {
  "colab": {
   "authorship_tag": "ABX9TyNEF3t5cyMNUMCG3w1VcUsM",
   "provenance": []
  },
  "kernelspec": {
   "display_name": "Python 3",
   "name": "python3"
  },
  "language_info": {
   "codemirror_mode": {
    "name": "ipython",
    "version": 3
   },
   "file_extension": ".py",
   "mimetype": "text/x-python",
   "name": "python",
   "nbconvert_exporter": "python",
   "pygments_lexer": "ipython3",
   "version": "3.9.6"
  }
 },
 "nbformat": 4,
 "nbformat_minor": 0
}
